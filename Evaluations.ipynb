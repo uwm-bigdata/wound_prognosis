{
 "cells": [
  {
   "cell_type": "code",
   "source": [
    "import sys\n",
    "sys.modules[__name__].__dict__.clear()"
   ],
   "metadata": {
    "collapsed": false,
    "pycharm": {
     "name": "#%%\n"
    }
   },
   "execution_count": 6,
   "outputs": []
  },
  {
   "cell_type": "code",
   "execution_count": null,
   "outputs": [],
   "source": [
    "\n",
    "import tensorflow as tf\n",
    "import numpy as np\n",
    "import pandas as pd\n",
    "from sklearn.model_selection import train_test_split\n",
    "from sklearn.preprocessing import OneHotEncoder, MinMaxScaler, OrdinalEncoder\n",
    "import matplotlib.pyplot as plt\n",
    "from sklearn.preprocessing import LabelEncoder\n",
    "from numpy.random import randn\n",
    "from numpy.random import randint\n",
    "\n",
    "#load train and test data"
   ],
   "metadata": {
    "collapsed": false,
    "pycharm": {
     "name": "#%%\n"
    }
   }
  },
  {
   "cell_type": "code",
   "execution_count": 3,
   "outputs": [
    {
     "name": "stdout",
     "output_type": "stream",
     "text": [
      "WARNING:tensorflow:No training configuration found in save file, so the model was *not* compiled. Compile it manually.\n"
     ]
    }
   ],
   "source": [
    "# load the trained generator\n",
    "generator = tf.keras.models.load_model('D:/generator')\n",
    "\n",
    "\n",
    "\n",
    "def generate_latent_points(latent_dim, n_samples, n_classes=2):\n",
    "    # generate points in the latent space\n",
    "    x_input = randn(latent_dim * n_samples)\n",
    "    # reshape into a batch of inputs for the network\n",
    "    z_input = x_input.reshape(n_samples, latent_dim)\n",
    "    # generate labels\n",
    "    labels = randint(0, n_classes, n_samples) #check these labels!\n",
    "\n",
    "    return z_input, labels\n",
    "\n",
    "\n",
    "Tx = 3\n",
    "nx = 20\n",
    "latent_dim = 100\n",
    "m = 1000   #number of samples you want to generate\n",
    "z_input, Y_fake = generate_latent_points(latent_dim, m)\n",
    "X_fake = generator.predict([z_input, Y_fake])\n",
    "X_fake =X_fake[:,:,:,0]\n",
    "X_fake = X_fake[:,0:Tx,:]\n",
    "\n",
    "X_fake = X_fake.reshape((m,Tx,nx,1)).astype('float32')\n",
    "\n"
   ],
   "metadata": {
    "collapsed": false,
    "pycharm": {
     "name": "#%% Generate Syntethic data\n"
    }
   }
  },
  {
   "cell_type": "code",
   "execution_count": 9,
   "outputs": [
    {
     "name": "stdout",
     "output_type": "stream",
     "text": [
      "Model: \"sequential_1\"\n",
      "_________________________________________________________________\n",
      "Layer (type)                 Output Shape              Param #   \n",
      "=================================================================\n",
      "conv1d_2 (Conv1D)            (None, 2, 16)             688       \n",
      "_________________________________________________________________\n",
      "conv1d_3 (Conv1D)            (None, 1, 16)             784       \n",
      "_________________________________________________________________\n",
      "dropout_1 (Dropout)          (None, 1, 16)             0         \n",
      "_________________________________________________________________\n",
      "flatten_1 (Flatten)          (None, 16)                0         \n",
      "_________________________________________________________________\n",
      "dense_2 (Dense)              (None, 5)                 85        \n",
      "_________________________________________________________________\n",
      "dense_3 (Dense)              (None, 1)                 6         \n",
      "=================================================================\n",
      "Total params: 1,563\n",
      "Trainable params: 1,563\n",
      "Non-trainable params: 0\n",
      "_________________________________________________________________\n",
      "Validation ROC AUC  Score: 0.9983993597438975\n",
      "Test ROC AUC  Score: 0.9859708193041526\n",
      "2/2 [==============================] - 0s 1ms/step - loss: 0.9041 - accuracy: 0.9000\b\b\b\b\b\b\b\b\b\b\b\b\b\b\b\b\b\b\b\b\b\b\b\b\b\b\b\b\b\b\b\b\b\b\b\b\b\b\b\b\b\b\b\b\b\b\b\b\b\b\b\b\b\b\b\b\b\b\b\b\b\b\b\b\b\b\b\b\b\b\b\b\b\b\b\b\n",
      "test accuracy: [0.9040672183036804, 0.8999999761581421]\n"
     ]
    },
    {
     "name": "stderr",
     "output_type": "stream",
     "text": [
      "d:\\farnaz2\\wound project\\virtual_env\\lib\\site-packages\\tensorflow\\python\\keras\\engine\\sequential.py:425: UserWarning: `model.predict_proba()` is deprecated and will be removed after 2021-01-01. Please use `model.predict()` instead.\n",
      "  warnings.warn('`model.predict_proba()` is deprecated and '\n",
      "d:\\farnaz2\\wound project\\virtual_env\\lib\\site-packages\\tensorflow\\python\\keras\\engine\\sequential.py:425: UserWarning: `model.predict_proba()` is deprecated and will be removed after 2021-01-01. Please use `model.predict()` instead.\n",
      "  warnings.warn('`model.predict_proba()` is deprecated and '\n"
     ]
    }
   ],
   "source": [
    "from keras.layers import Conv1D, Dropout\n",
    "from tensorflow.keras import initializers\n",
    "from keras.layers import Dense, Flatten\n",
    "from keras.models import Sequential\n",
    "from sklearn.metrics import  roc_auc_score\n",
    "\n",
    "Tx=3\n",
    "\n",
    "X_train_new, X_val, Y_train_new, Y_val = train_test_split(X_fake[:,0:Tx,:,0], Y_fake, test_size = 0.1, random_state=10)\n",
    "\n",
    "x_test = np.concatenate((X_train[:,0:Tx,:,0],X_test[:14,0:Tx,:,0]),axis=0)\n",
    "y_test = np.concatenate((Y_train,Y_test[:14]),axis=0)\n",
    "\n",
    "model_CNN = Sequential()\n",
    "model_CNN.add(Conv1D(filters=16, kernel_size=3, strides=2, padding='same', activation='relu', input_shape=(Tx,nx)))\n",
    "model_CNN.add(Conv1D(filters=16, kernel_size=3, strides=2, padding='same', activation='relu'))\n",
    "model_CNN.add(Dropout(0.2))\n",
    "model_CNN.add(Flatten())\n",
    "model_CNN.add(Dense(5,activation='sigmoid'))\n",
    "model_CNN.add(Dense(1,activation='sigmoid'))\n",
    "model_CNN.compile(loss='binary_crossentropy', optimizer='adam', metrics=['accuracy'])\n",
    "history = model_CNN.fit(X_train_new, Y_train_new, epochs=500, batch_size=8, validation_data=(X_val,Y_val),verbose=0)\n",
    "model_CNN.summary()\n",
    "\n",
    "probs_val = model_CNN.predict_proba(X_val)\n",
    "print(f'Validation ROC AUC  Score: {roc_auc_score(Y_val,probs_val)}')\n",
    "probs = model_CNN.predict_proba(x_test)\n",
    "print(f'Test ROC AUC  Score: {roc_auc_score(y_test, probs)}')\n",
    "print(f'test accuracy: {model_CNN.evaluate(x_test, y_test)}')\n",
    "\n"
   ],
   "metadata": {
    "collapsed": false,
    "pycharm": {
     "name": "#%% CNN classifier  (TSTR)\n"
    }
   }
  },
  {
   "cell_type": "code",
   "execution_count": 9,
   "outputs": [],
   "source": [
    "from sklearn.manifold import TSNE\n",
    "X_t = X_train.reshape((X_train.shape[0],X_train.shape[1]*X_train.shape[2]))\n",
    "X_f = X_fake.reshape((X_fake.shape[0],X_fake.shape[1]*X_fake.shape[2]))\n",
    "X_tt = X_test.reshape((X_test.shape[0],X_test.shape[1]*X_test.shape[2]))\n",
    "X_all = np.concatenate((X_t,X_tt,X_f),axis=0)\n",
    "y_all = np.concatenate((Y_train,Y_test,Y_fake),axis=0)\n",
    "X_embedded = TSNE(n_components=2).fit_transform(X_all)\n",
    "ix_1 = y_all ==1\n",
    "ix_0 = y_all == 0\n",
    "ix_1_r = ix_1[:X_train.shape[0]]\n",
    "ix_1_tt = ix_1[X_train.shape[0]:X_train.shape[0]+X_test.shape[0]]\n",
    "ix_1_f = ix_1[X_train.shape[0]+X_test.shape[0]:]\n",
    "ix_0_r = ix_0[:X_train.shape[0]]\n",
    "ix_0_tt = ix_0[X_train.shape[0]:X_train.shape[0]+X_test.shape[0]]\n",
    "ix_0_f = ix_0[X_train.shape[0]+X_test.shape[0]:]\n",
    "X_emb_r = X_embedded[:X_train.shape[0],]\n",
    "X_emb_tt = X_embedded[X_train.shape[0]:X_train.shape[0]+X_test.shape[0],]\n",
    "X_emb_f = X_embedded[X_train.shape[0]+X_test.shape[0]:,]\n",
    "\n",
    "X_emb_1_r = X_emb_r[ix_1_r]\n",
    "X_emb_1_tt = X_emb_tt[ix_1_tt]\n",
    "X_emb_1_f = X_emb_f[ix_1_f]\n",
    "X_emb_0_r = X_emb_r[ix_0_r]\n",
    "X_emb_0_tt = X_emb_tt[ix_0_tt]\n",
    "X_emb_0_f = X_emb_f[ix_0_f]\n",
    "\n",
    "\n",
    "n=70\n",
    "\n",
    "plt.plot(X_emb_1_f[:,0],X_emb_1_f[:,1],'ro')\n",
    "plt.plot(X_emb_1_r[:,0],X_emb_1_r[:,1],'bo')\n",
    "plt.plot(X_emb_1_tt[:,0],X_emb_1_tt[:,1],'go')\n",
    "plt.plot(X_emb_0_f[:,0],X_emb_0_f[:,1],'ro')\n",
    "plt.plot(X_emb_0_r[:,0],X_emb_0_r[:,1],'bo')\n",
    "plt.plot(X_emb_0_tt[:,0],X_emb_0_tt[:,1],'go')\n",
    "plt.xlim(-n,n)\n",
    "plt.ylim(-n,n)\n",
    "plt.legend(['Synthetic Data','Real Train Data','Real Test Data'])\n",
    "plt.title('EMR-TCWGAN')\n",
    "plt.xlabel('x-tSNE')\n",
    "plt.ylabel('y-tSNE')\n",
    "plt.show()\n",
    "\n",
    "\n",
    "\n",
    "\n",
    "\n",
    "plt.plot(X_emb_1_f[:,0],X_emb_1_f[:,1],'bo')\n",
    "plt.plot(X_emb_0_r[:,0],X_emb_0_r[:,1],'ro')\n",
    "plt.plot(X_emb_1_r[:,0],X_emb_1_r[:,1],'bo')\n",
    "plt.plot(X_emb_0_f[:,0],X_emb_0_f[:,1],'ro')\n",
    "plt.xlim(-n,n)\n",
    "plt.ylim(-n,n)\n",
    "plt.legend(['Healed', 'Not Healed'])\n",
    "plt.title('EMR-TCWGAN')\n",
    "plt.xlabel('x-tSNE')\n",
    "plt.ylabel('y-tSNE')\n",
    "plt.show()\n",
    "\n"
   ],
   "metadata": {
    "collapsed": false,
    "pycharm": {
     "name": "#%%t-SNE\n"
    }
   }
  },
  {
   "cell_type": "code",
   "execution_count": 95,
   "outputs": [
    {
     "data": {
      "text/plain": "<Figure size 432x288 with 1 Axes>",
      "image/png": "[encoded data removed]"
     },
     "metadata": {
      "needs_background": "light"
     },
     "output_type": "display_data"
    },
    {
     "data": {
      "text/plain": "<Figure size 432x288 with 1 Axes>",
      "image/png": "[encoded data removed]"
     },
     "metadata": {
      "needs_background": "light"
     },
     "output_type": "display_data"
    }
   ],
   "source": [
    "from sklearn import metrics\n",
    "\n",
    "X_ph =np.concatenate((X_train,X_fake[:X_train.shape[0],:,:,:]),axis=0)\n",
    "Y_ph = np.concatenate((np.ones((X_train.shape[0],)),np.zeros(X_train.shape[0],)),axis=0)\n",
    "\n",
    "import tensorflow as tf\n",
    "from keras.layers import  Dense, Dropout, Flatten, Conv2D, Input, ReLU, BatchNormalization,MaxPooling2D\n",
    "from keras.models import Model\n",
    "from keras import regularizers, initializers\n",
    "\n",
    "def My_model_posthoc(Tx,nx):\n",
    "\n",
    "    in_image= Input (shape=[Tx, nx, 1])\n",
    "    fe = Conv2D(16,(3,3), strides=(2,2), padding='same',kernel_initializer= initializers.RandomNormal(seed=5), kernel_regularizer=regularizers.l1_l2(l1=1e-5, l2=1e-4))(in_image)\n",
    "    fe= ReLU()(fe)\n",
    "\n",
    "    fe = Conv2D(32, (3,3), strides=(2,2),padding='same')(fe)\n",
    "    fe = BatchNormalization()(fe)\n",
    "    fe = ReLU()(fe)\n",
    "    fe = Dropout(0.2)(fe)\n",
    "\n",
    "    fe = Conv2D(16, (3,3), strides=(2,2),padding='same')(fe)\n",
    "    fe = BatchNormalization()(fe)\n",
    "    fe = ReLU()(fe)\n",
    "    fe = Dropout(0.2)(fe)\n",
    "\n",
    "    fe = Flatten()(fe)\n",
    "    fe =  Dense(1)(fe)\n",
    "    out1 = ReLU()(fe)\n",
    "\n",
    "    model = Model(in_image, out1)\n",
    "    #model.summary()\n",
    "    return model\n",
    "\n",
    "loss = tf.keras.losses.BinaryCrossentropy()\n",
    "opt = tf.keras.optimizers.Adam(learning_rate=0.0001)\n",
    "met= tf.keras.metrics.BinaryAccuracy()\n",
    "\n",
    "def score_test(x,y,model_CNN):\n",
    "    pred_test = model_CNN.predict(x)\n",
    "    score = model_CNN.evaluate(x, y)\n",
    "    fpr, tpr, thresholds = metrics.roc_curve(y, pred_test.reshape((pred_test.shape[0],)))\n",
    "    auc = metrics.auc(fpr, tpr)\n",
    "    return  pred_test, auc, fpr, tpr, score\n",
    "\n",
    "\n",
    "model_posthoc = My_model_posthoc(Tx,nx)\n",
    "model_posthoc.compile(loss=loss, optimizer=opt, metrics=met)\n",
    "history=model_posthoc.fit(X_ph,Y_ph, batch_size=8, epochs= 2500, verbose=0, validation_split=0.1 , shuffle=True )\n",
    "\n",
    "plt.plot(history.history['binary_accuracy'])\n",
    "plt.plot(history.history['val_binary_accuracy'])\n",
    "plt.title('model accuracy')\n",
    "plt.ylabel('accuracy')\n",
    "plt.xlabel('epoch')\n",
    "plt.legend(['train', 'validation'], loc='upper left')\n",
    "plt.show()\n",
    "# \"Loss\"\n",
    "plt.plot(history.history['loss'])\n",
    "plt.plot(history.history['val_loss'])\n",
    "plt.title('model loss')\n",
    "plt.ylabel('loss')\n",
    "plt.xlabel('epoch')\n",
    "plt.legend(['train', 'validation'], loc='upper left')\n",
    "plt.show()\n",
    "\n",
    "\n",
    "X_ph_t =X_fake[X_train.shape[0]:,:,:,:]\n",
    "Y_ph_t = np.zeros((X_ph_t.shape[0],))\n",
    "\n",
    "pred_test, auc, fpr, tpr, score = score_test(X_ph_t,Y_ph_t,model_posthoc)\n",
    "\n",
    "print(\"Test Accuracy:\" , 100*score[1])\n",
    "plt.plot(pred_test,'*--')\n",
    "plt.plot(Y_ph_t,'o--')\n",
    "plt.xlabel('Test patients')\n",
    "plt.ylabel('Output')\n",
    "plt.legend(['Predicted' , 'True'])\n",
    "plt.show()\n"
   ],
   "metadata": {
    "collapsed": false,
    "pycharm": {
     "name": "#%% post hoc descriminator score\n"
    }
   }
  },
  {
   "cell_type": "code",
   "execution_count": null,
   "outputs": [],
   "source": [
    "Tx = 3\n",
    "X_train_cont_1 = np.concatenate((X_train[:,0,0:Tx,0],X_test[:,0,0:Tx,0]),axis=0)\n",
    "X_train_cont_2 = np.concatenate((X_train[:,1,0:Tx,0],X_test[:,1,0:Tx,0]),axis=0)\n",
    "X_train_cont_3 = np.concatenate((X_train[:,2,0:Tx,0],X_test[:,2,0:Tx,0]),axis=0)\n",
    "\n",
    "X_fake_cont_1 = X_fake[:,0,0:Tx,0]\n",
    "X_fake_cont_2 = X_fake[:,1,0:Tx,0]\n",
    "X_fake_cont_3 = X_fake[:,2,0:Tx,0]"
   ],
   "metadata": {
    "collapsed": false,
    "pycharm": {
     "name": "#%% continous data\n"
    }
   }
  },
  {
   "cell_type": "code",
   "execution_count": null,
   "outputs": [],
   "source": [
    "X_train_cont_1 = np.concatenate((X_train[:,0,:,0],X_test[:,0,:,0]),axis=0)\n",
    "X_train_cont_2 = np.concatenate((X_train[:,1,:,0],X_test[:,1,:,0]),axis=0)\n",
    "X_train_cont_3 = np.concatenate((X_train[:,2,:,0],X_test[:,2,:,0]),axis=0)\n",
    "\n",
    "X_fake_cont_1 = X_fake[:60,0,:,0]\n",
    "X_fake_cont_2 = X_fake[:60,1,:,0]\n",
    "X_fake_cont_3 = X_fake[:60,2,:,0]"
   ],
   "metadata": {
    "collapsed": false,
    "pycharm": {
     "name": "#%%\n"
    }
   }
  },
  {
   "cell_type": "code",
   "execution_count": null,
   "outputs": [],
   "source": [
    "from scipy.spatial.distance import jensenshannon\n",
    "js_1c =[]\n",
    "for f in range(X_fake_cont_1.shape[1]):\n",
    "\n",
    "    p = np.histogram(X_train_cont_1[:,f],bins=10,range=[-3,3])\n",
    "    qf = np.histogram(X_fake_cont_1[:60,f],bins=10,range=[-3,3])\n",
    "    js_1c.append(jensenshannon(p[0]/60, q[0]/60, base=2))\n",
    "\n",
    "print(q[0])\n",
    "print(q[1])\n",
    "\n",
    "print(p[0])\n",
    "print(p[1])\n",
    "x = [-3,  -2.4, -1.8, -1.2, -0.6,   0.6  ,1.2 , 1.8  ,2.4 , 3 ]\n",
    "plt.plot(x,p[0]/60)\n",
    "plt.plot(x,q[0]/60)\n",
    "plt.plot(x,qf[0]/60)\n",
    "plt.show()"
   ],
   "metadata": {
    "collapsed": false,
    "pycharm": {
     "name": "#%%\n"
    }
   }
  },
  {
   "cell_type": "code",
   "execution_count": null,
   "outputs": [],
   "source": [
    "plt.hist(X_train_cont_1[:,f],bins=10,range=[-3,3])\n",
    "plt.show()\n",
    "plt.hist(X_fake_cont_1[:,f],bins=10,range=[-3,3])\n",
    "plt.show()"
   ],
   "metadata": {
    "collapsed": false,
    "pycharm": {
     "name": "#%%\n"
    }
   }
  },
  {
   "cell_type": "code",
   "execution_count": null,
   "outputs": [],
   "source": [
    "print(np.asarray(js_1f).mean())\n",
    "print(np.asarray(js_1c).mean())\n",
    "\n",
    "print(np.asarray(js_2f).mean())\n",
    "print(np.asarray(js_2c).mean())\n",
    "\n",
    "print(np.asarray(js_3f).mean())\n",
    "print(np.asarray(js_3c).mean())\n",
    "\n",
    "\n",
    "print(js_1f[0:3])\n",
    "print(js_2f[0:3])\n",
    "print(js_3f[0:3])\n",
    "\n",
    "print(js_1c[0:3])\n",
    "print(js_2c[0:3])\n",
    "print(js_3c[0:3])"
   ],
   "metadata": {
    "collapsed": false,
    "pycharm": {
     "name": "#%%\n"
    }
   }
  },
  {
   "cell_type": "code",
   "execution_count": null,
   "outputs": [],
   "source": [
    "f=2\n",
    "p = np.histogram(X_train_cont_3[:,f],bins=5,range=[-1,1])\n",
    "q = np.histogram(X_fake_cont_3[:60,f],bins=5,range=[-1,1])\n",
    "print(p[0]/60)\n",
    "print(q)\n",
    "\n",
    "\n",
    "# calculate JS(P || Q)\n",
    "js_pq = jensenshannon(p[0]/60, q[0]/60, base=2)\n",
    "print('JS(P || Q) Distance: %.3f' % js_pq)\n",
    "# calculate JS(Q || P)\n",
    "js_qp = jensenshannon(q[0]/60, p[0]/60, base=2)\n",
    "print('JS(Q || P) Distance: %.3f' % js_qp)\n"
   ],
   "metadata": {
    "collapsed": false,
    "pycharm": {
     "name": "#%%\n"
    }
   }
  },
  {
   "cell_type": "code",
   "execution_count": null,
   "outputs": [],
   "source": [
    "f=0\n",
    "import seaborn as sns\n",
    "ax = sns.distplot(X_train_cont_1[:,f],hist=False, kde=True)\n",
    "ax = sns.distplot(X_train_cont_2[:,f],hist=False, kde=True)\n",
    "ax = sns.distplot(X_train_cont_3[:,f],hist=False, kde=True)\n",
    "ax.set(xlabel='Wound Length Distribution', ylabel='Frequency')\n",
    "ax.legend(['First visit','Second visit', 'Third visit'])\n",
    "fig = ax.get_figure()\n",
    "fig.savefig('D:\\Farnaz2\\Wound Project\\Model_complete_Data_02012021\\WGAN-FS14-categorical_cnn/wound length real')"
   ],
   "metadata": {
    "collapsed": false,
    "pycharm": {
     "name": "#%%\n"
    }
   }
  },
  {
   "cell_type": "code",
   "execution_count": null,
   "outputs": [],
   "source": [
    "ax2 = sns.distplot(X_fake_cont_1[:,f],hist=False, kde=True)\n",
    "ax2 = sns.distplot(X_fake_cont_2[:,f],hist=False, kde=True)\n",
    "ax2 = sns.distplot(X_fake_cont_3[:,f],hist=False, kde=True)\n",
    "ax2.set(xlabel='Wound Length Distribution', ylabel='Frequency')\n",
    "ax2.legend(['First visit','Second visit', 'Third visit'])\n",
    "fig = ax2.get_figure()\n",
    "fig.savefig('D:\\Farnaz2\\Wound Project\\Model_complete_Data_02012021\\WGAN-FS14-categorical_cnn/wound length fake')"
   ],
   "metadata": {
    "collapsed": false,
    "pycharm": {
     "name": "#%%\n"
    }
   }
  }
 ],
 "metadata": {
  "kernelspec": {
   "display_name": "Python 3",
   "language": "python",
   "name": "python3"
  },
  "language_info": {
   "codemirror_mode": {
    "name": "ipython",
    "version": 2
   },
   "file_extension": ".py",
   "mimetype": "text/x-python",
   "name": "python",
   "nbconvert_exporter": "python",
   "pygments_lexer": "ipython2",
   "version": "2.7.6"
  },
  "pycharm": {
   "stem_cell": {
    "cell_type": "raw",
    "source": [
     "\n"
    ],
    "metadata": {
     "collapsed": false
    }
   }
  }
 },
 "nbformat": 4,
 "nbformat_minor": 0
}